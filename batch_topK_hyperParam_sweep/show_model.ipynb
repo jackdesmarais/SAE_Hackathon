{
 "cells": [
  {
   "cell_type": "code",
   "execution_count": 3,
   "metadata": {},
   "outputs": [],
   "source": [
    "import sys\n",
    "sys.path.append('../src')\n",
    "\n",
    "from SAE_models import BatchTopKSAE"
   ]
  },
  {
   "cell_type": "code",
   "execution_count": 5,
   "metadata": {},
   "outputs": [
    {
     "name": "stderr",
     "output_type": "stream",
     "text": [
      "/grid/kinney/home/desmara/.conda/envs/architecture_search_env/lib/python3.11/site-packages/torch/cuda/__init__.py:716: UserWarning: Can't initialize NVML\n",
      "  warnings.warn(\"Can't initialize NVML\")\n",
      "/grid/kinney/home/desmara/.conda/envs/architecture_search_env/lib/python3.11/site-packages/torch/cuda/__init__.py:905: UserWarning: CUDA initialization: The NVIDIA driver on your system is too old (found version 11070). Please update your GPU driver by downloading and installing a new version from the URL: http://www.nvidia.com/Download/index.aspx Alternatively, go to: https://pytorch.org to install a PyTorch version that has been compiled with your version of the CUDA driver. (Triggered internally at /opt/conda/conda-bld/pytorch_1729647429097/work/c10/cuda/CUDAFunctions.cpp:108.)\n",
      "  r = torch._C._cuda_getDeviceCount() if nvml_count < 0 else nvml_count\n"
     ]
    },
    {
     "data": {
      "text/plain": [
       "BatchTopKSAE()"
      ]
     },
     "execution_count": 5,
     "metadata": {},
     "output_type": "execute_result"
    }
   ],
   "source": [
    "model = BatchTopKSAE.load_from_checkpoint('out/V7/SpliceAI_WG_Add_14_MB_3_out_topk16_dict256_topkaux16_auxpen0.5_49_epoch=60_val_loss=5.56.ckpt')\n",
    "model"
   ]
  },
  {
   "cell_type": "code",
   "execution_count": 10,
   "metadata": {},
   "outputs": [
    {
     "data": {
      "text/plain": [
       "[('b_dec',\n",
       "  Parameter containing:\n",
       "  tensor([ 0.2868,  0.6056,  0.7970,  1.0340,  0.2948, -0.0771,  0.1941, -0.0337,\n",
       "           1.2882, -0.0530,  1.2213,  0.8899, -0.1685, -0.2085,  0.5169,  0.0964,\n",
       "           0.3278,  1.3141,  1.1005, -0.4089, -0.4129,  0.4408,  0.1328, -0.0977,\n",
       "           2.0358, -1.6850, -0.4993,  0.9884, -1.5795,  0.9347,  0.6790,  0.6626],\n",
       "         requires_grad=True)),\n",
       " ('b_enc',\n",
       "  Parameter containing:\n",
       "  tensor([0., 0., 0., 0., 0., 0., 0., 0., 0., 0., 0., 0., 0., 0., 0., 0., 0., 0., 0., 0., 0., 0., 0., 0.,\n",
       "          0., 0., 0., 0., 0., 0., 0., 0., 0., 0., 0., 0., 0., 0., 0., 0., 0., 0., 0., 0., 0., 0., 0., 0.,\n",
       "          0., 0., 0., 0., 0., 0., 0., 0., 0., 0., 0., 0., 0., 0., 0., 0., 0., 0., 0., 0., 0., 0., 0., 0.,\n",
       "          0., 0., 0., 0., 0., 0., 0., 0., 0., 0., 0., 0., 0., 0., 0., 0., 0., 0., 0., 0., 0., 0., 0., 0.,\n",
       "          0., 0., 0., 0., 0., 0., 0., 0., 0., 0., 0., 0., 0., 0., 0., 0., 0., 0., 0., 0., 0., 0., 0., 0.,\n",
       "          0., 0., 0., 0., 0., 0., 0., 0., 0., 0., 0., 0., 0., 0., 0., 0., 0., 0., 0., 0., 0., 0., 0., 0.,\n",
       "          0., 0., 0., 0., 0., 0., 0., 0., 0., 0., 0., 0., 0., 0., 0., 0., 0., 0., 0., 0., 0., 0., 0., 0.,\n",
       "          0., 0., 0., 0., 0., 0., 0., 0., 0., 0., 0., 0., 0., 0., 0., 0., 0., 0., 0., 0., 0., 0., 0., 0.,\n",
       "          0., 0., 0., 0., 0., 0., 0., 0., 0., 0., 0., 0., 0., 0., 0., 0., 0., 0., 0., 0., 0., 0., 0., 0.,\n",
       "          0., 0., 0., 0., 0., 0., 0., 0., 0., 0., 0., 0., 0., 0., 0., 0., 0., 0., 0., 0., 0., 0., 0., 0.,\n",
       "          0., 0., 0., 0., 0., 0., 0., 0., 0., 0., 0., 0., 0., 0., 0., 0.],\n",
       "         requires_grad=True)),\n",
       " ('W_enc',\n",
       "  Parameter containing:\n",
       "  tensor([[ 4.9449e-41, -8.4880e-03, -7.7547e-04,  ...,  7.1339e-03,\n",
       "           -4.9487e-41,  4.9755e-41],\n",
       "          [ 4.9401e-41, -1.7221e-03,  4.0145e-03,  ...,  8.8102e-03,\n",
       "            5.8042e-41,  5.1328e-41],\n",
       "          [-4.9254e-41, -6.6634e-03,  1.0454e-02,  ...,  6.7809e-04,\n",
       "           -4.9165e-41, -5.0606e-41],\n",
       "          ...,\n",
       "          [-4.9075e-41, -1.2953e-03,  2.4028e-03,  ..., -1.0944e-02,\n",
       "            5.1649e-41, -5.0468e-41],\n",
       "          [ 4.9359e-41,  1.4364e-02, -4.2023e-03,  ...,  1.8547e-03,\n",
       "            5.3056e-41,  5.0514e-41],\n",
       "          [ 4.9159e-41, -1.6556e-03, -8.8229e-03,  ...,  7.8514e-03,\n",
       "           -5.2019e-41, -5.0927e-41]], requires_grad=True)),\n",
       " ('W_dec',\n",
       "  Parameter containing:\n",
       "  tensor([[ 4.9392e-41, -4.9446e-41, -1.0000e+00,  ...,  4.9187e-41,\n",
       "           -4.9333e-41,  4.9243e-41],\n",
       "          [-1.3128e-01, -1.3003e-01, -7.3362e-02,  ..., -7.7418e-02,\n",
       "            2.7803e-01, -8.9794e-02],\n",
       "          [ 1.0693e-01,  5.4059e-02,  2.4255e-01,  ...,  2.8096e-02,\n",
       "           -7.5622e-02, -1.5576e-01],\n",
       "          ...,\n",
       "          [-1.2252e-01,  1.9002e-02, -8.8456e-02,  ...,  5.4588e-02,\n",
       "           -4.6114e-03, -1.0217e-01],\n",
       "          [ 5.9327e-41, -6.0142e-41,  5.6669e-41,  ...,  5.8199e-41,\n",
       "            5.7001e-41, -5.8085e-41],\n",
       "          [ 5.8578e-41, -5.8112e-41,  5.7358e-41,  ..., -5.4177e-41,\n",
       "           -5.6654e-41,  5.9425e-41]], requires_grad=True))]"
      ]
     },
     "execution_count": 10,
     "metadata": {},
     "output_type": "execute_result"
    }
   ],
   "source": [
    "[(n,p) for n, p in model.named_parameters()]"
   ]
  },
  {
   "cell_type": "code",
   "execution_count": null,
   "metadata": {},
   "outputs": [],
   "source": []
  }
 ],
 "metadata": {
  "kernelspec": {
   "display_name": "architecture_search_env",
   "language": "python",
   "name": "python3"
  },
  "language_info": {
   "codemirror_mode": {
    "name": "ipython",
    "version": 3
   },
   "file_extension": ".py",
   "mimetype": "text/x-python",
   "name": "python",
   "nbconvert_exporter": "python",
   "pygments_lexer": "ipython3",
   "version": "3.11.11"
  }
 },
 "nbformat": 4,
 "nbformat_minor": 2
}
