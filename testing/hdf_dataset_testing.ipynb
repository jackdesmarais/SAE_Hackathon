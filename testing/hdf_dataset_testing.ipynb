{
 "cells": [
  {
   "cell_type": "code",
   "execution_count": 1,
   "metadata": {},
   "outputs": [],
   "source": [
    "import numpy as np\n",
    "import h5py\n",
    "\n",
    "import sys\n",
    "sys.path.append('../src')\n",
    "from hdf_dataset import HDF3DIterator"
   ]
  },
  {
   "cell_type": "code",
   "execution_count": 3,
   "metadata": {},
   "outputs": [
    {
     "name": "stdout",
     "output_type": "stream",
     "text": [
      "(58401, 5000, 32)\n",
      "(210308, 5000, 32)\n",
      "(12936, 5000, 32)\n"
     ]
    }
   ],
   "source": [
    "with h5py.File('/grid/hackathon/data_norepl/splarseers/output/embed_val.h5', 'r') as f:\n",
    "    print(f['embed_val'].shape)\n",
    "\n",
    "with h5py.File('/grid/hackathon/data_norepl/splarseers/output/embed_train.h5', 'r') as f:\n",
    "    print(f['embed_train'].shape)\n",
    "\n",
    "with h5py.File('/grid/hackathon/data_norepl/splarseers/output/embed_test.h5', 'r') as f:\n",
    "    print(f['embed_test'].shape)\n"
   ]
  },
  {
   "cell_type": "code",
   "execution_count": 12,
   "metadata": {},
   "outputs": [
    {
     "name": "stdout",
     "output_type": "stream",
     "text": [
      "1: batch number 17822.57080078125\n",
      "\tbatch size 16384\n",
      "\tbatches to dead 600.0\n",
      "\tGb/batch 0.001963801989691957\n",
      "8: batch number 2227.8213500976562\n",
      "\tbatch size 131072\n",
      "\tbatches to dead 75.0\n",
      "\tGb/batch 0.015710415917535657\n",
      "32: batch number 556.9553375244141\n",
      "\tbatch size 524288\n",
      "\tbatches to dead 18.75\n",
      "\tGb/batch 0.06284166367014263\n",
      "64: batch number 278.47766876220703\n",
      "\tbatch size 1048576\n",
      "\tbatches to dead 9.375\n",
      "\tGb/batch 0.12568332734028526\n",
      "256: batch number 69.61941719055176\n",
      "\tbatch size 4194304\n",
      "\tbatches to dead 2.34375\n",
      "\tGb/batch 0.502733309361141\n"
     ]
    }
   ],
   "source": [
    "for multiplier in [1, 8, 32, 64, 256]:\n",
    "    batch_number = (58401*5000)/(16384*multiplier)\n",
    "    print(f'{multiplier}: batch number {batch_number}\\n\\t'\n",
    "          f'batch size {(16384*multiplier)}\\n\\t'\n",
    "          f'batches to dead {(600)/multiplier}\\n\\t'\n",
    "          f'Gb/batch {(35)/(batch_number)}')\n"
   ]
  },
  {
   "cell_type": "code",
   "execution_count": 6,
   "metadata": {},
   "outputs": [
    {
     "name": "stdout",
     "output_type": "stream",
     "text": [
      "total 169G\n",
      "-rw-rwx--- 1 zhliu koohackathon 7.8G Mar 13 17:02 embed_test.h5\n",
      "-rw-rwx--- 1 zhliu koohackathon 126G Mar 13 17:13 embed_train.h5\n",
      "-rw-rwx--- 1 zhliu koohackathon  35G Mar 13 17:04 embed_val.h5\n",
      "-rw-rwx--- 1 zhliu koohackathon  12K Mar 13 18:23 test_shape.ipynb\n"
     ]
    }
   ],
   "source": [
    "!ls -lh /grid/hackathon/data_norepl/splarseers/output/"
   ]
  },
  {
   "cell_type": "code",
   "execution_count": 9,
   "metadata": {},
   "outputs": [],
   "source": [
    "fake_training_data = np.random.randn(5, 5000, 32)\n",
    "with h5py.File('./fake_embed_train.h5', 'w') as f:\n",
    "    f.create_dataset('embed_train', data=fake_training_data)\n",
    "\n",
    "fake_val_data = np.random.randn(5, 5000, 32)\n",
    "with h5py.File('./fake_embed_val.h5', 'w') as f:\n",
    "    f.create_dataset('embed_val', data=fake_val_data)\n",
    "\n",
    "fake_test_data = np.random.randn(5, 5000, 32)\n",
    "with h5py.File('./fake_embed_test.h5', 'w') as f:\n",
    "    f.create_dataset('embed_test', data=fake_test_data)\n",
    "\n"
   ]
  },
  {
   "cell_type": "code",
   "execution_count": 3,
   "metadata": {},
   "outputs": [
    {
     "name": "stdout",
     "output_type": "stream",
     "text": [
      "[-0.19399936  0.65435621 -0.96320109  0.5455392  -0.04167439 -0.3720585\n",
      "  0.48796122  0.30532098  0.26174639  0.23235679  1.8282784  -1.61954305\n",
      "  1.64801566  0.84321343 -1.03615545 -0.51377551  1.07920278 -0.14377821\n",
      " -2.08454498 -0.72174054  0.0141697  -2.13751916 -0.86524223  1.23499815\n",
      "  0.1319807  -2.35447913 -0.91882274 -0.70373064 -0.093258    1.50630295\n",
      "  1.02012788  0.87943806]\n"
     ]
    },
    {
     "ename": "AttributeError",
     "evalue": "'NoneType' object has no attribute 'shape'",
     "output_type": "error",
     "traceback": [
      "\u001b[0;31m---------------------------------------------------------------------------\u001b[0m",
      "\u001b[0;31mAttributeError\u001b[0m                            Traceback (most recent call last)",
      "Cell \u001b[0;32mIn[3], line 6\u001b[0m\n\u001b[1;32m      3\u001b[0m \u001b[38;5;28;01mwith\u001b[39;00m ds:\n\u001b[1;32m      4\u001b[0m     \u001b[38;5;28mprint\u001b[39m(ds[\u001b[38;5;241m0\u001b[39m])\n\u001b[0;32m----> 6\u001b[0m ds\u001b[38;5;241m.\u001b[39mdata\u001b[38;5;241m.\u001b[39mshape\n",
      "\u001b[0;31mAttributeError\u001b[0m: 'NoneType' object has no attribute 'shape'"
     ]
    }
   ],
   "source": [
    "ds = HDF3DIterator('./fake_embed_test.h5', 'embed_test', preload=True)\n",
    "\n",
    "with ds:\n",
    "    print(ds[0])\n",
    "\n",
    "ds.data.shape"
   ]
  },
  {
   "cell_type": "code",
   "execution_count": 4,
   "metadata": {},
   "outputs": [
    {
     "data": {
      "text/plain": [
       "(5, 5000, 32)"
      ]
     },
     "execution_count": 4,
     "metadata": {},
     "output_type": "execute_result"
    }
   ],
   "source": [
    "ds.open()\n",
    "ds.data.shape\n"
   ]
  },
  {
   "cell_type": "code",
   "execution_count": 5,
   "metadata": {},
   "outputs": [
    {
     "data": {
      "text/plain": [
       "array([9.9999976e-01, 1.5559001e-08, 2.2726178e-07], dtype=float32)"
      ]
     },
     "execution_count": 5,
     "metadata": {},
     "output_type": "execute_result"
    }
   ],
   "source": [
    "ds = HDF3DIterator('/grid/hackathon/data_norepl/splarseers/output/embed_test.h5', 'embed_test')\n",
    "ds[0]"
   ]
  },
  {
   "cell_type": "code",
   "execution_count": 6,
   "metadata": {},
   "outputs": [
    {
     "data": {
      "text/plain": [
       "array([1.000000e+00, 8.335636e-09, 4.705444e-10], dtype=float32)"
      ]
     },
     "execution_count": 6,
     "metadata": {},
     "output_type": "execute_result"
    }
   ],
   "source": [
    "ds = HDF3DIterator('/grid/hackathon/data_norepl/splarseers/output/embed_train.h5', 'embed_train')\n",
    "ds[0]"
   ]
  },
  {
   "cell_type": "code",
   "execution_count": 7,
   "metadata": {},
   "outputs": [
    {
     "name": "stdout",
     "output_type": "stream",
     "text": [
      "(210308, 5000, 3)\n"
     ]
    }
   ],
   "source": [
    "with h5py.File('/grid/hackathon/data_norepl/splarseers/output/embed_train.h5', 'r') as f:\n",
    "    print(f['embed_train'].shape)\n"
   ]
  },
  {
   "cell_type": "code",
   "execution_count": 3,
   "metadata": {},
   "outputs": [],
   "source": [
    "with h5py.File('./test.h5', 'w') as f:\n",
    "    f.create_dataset('data', data=arr)\n",
    "\n"
   ]
  },
  {
   "cell_type": "code",
   "execution_count": 5,
   "metadata": {},
   "outputs": [
    {
     "name": "stdout",
     "output_type": "stream",
     "text": [
      "[ 0  1  2  3  4  5  6  7  8  9 10 11 12 13 14 15 16 17 18 19 20 21 22 23\n",
      " 24 25 26 27 28 29 30 31]\n",
      "[[  0   1   2   3   4   5   6   7   8   9  10  11  12  13  14  15  16  17\n",
      "   18  19  20  21  22  23  24  25  26  27  28  29  30  31]\n",
      " [ 32  33  34  35  36  37  38  39  40  41  42  43  44  45  46  47  48  49\n",
      "   50  51  52  53  54  55  56  57  58  59  60  61  62  63]\n",
      " [ 64  65  66  67  68  69  70  71  72  73  74  75  76  77  78  79  80  81\n",
      "   82  83  84  85  86  87  88  89  90  91  92  93  94  95]\n",
      " [ 96  97  98  99 100 101 102 103 104 105 106 107 108 109 110 111 112 113\n",
      "  114 115 116 117 118 119 120 121 122 123 124 125 126 127]\n",
      " [128 129 130 131 132 133 134 135 136 137 138 139 140 141 142 143 144 145\n",
      "  146 147 148 149 150 151 152 153 154 155 156 157 158 159]\n",
      " [160 161 162 163 164 165 166 167 168 169 170 171 172 173 174 175 176 177\n",
      "  178 179 180 181 182 183 184 185 186 187 188 189 190 191]\n",
      " [192 193 194 195 196 197 198 199 200 201 202 203 204 205 206 207 208 209\n",
      "  210 211 212 213 214 215 216 217 218 219 220 221 222 223]\n",
      " [224 225 226 227 228 229 230 231 232 233 234 235 236 237 238 239 240 241\n",
      "  242 243 244 245 246 247 248 249 250 251 252 253 254 255]\n",
      " [256 257 258 259 260 261 262 263 264 265 266 267 268 269 270 271 272 273\n",
      "  274 275 276 277 278 279 280 281 282 283 284 285 286 287]\n",
      " [288 289 290 291 292 293 294 295 296 297 298 299 300 301 302 303 304 305\n",
      "  306 307 308 309 310 311 312 313 314 315 316 317 318 319]]\n",
      "[ 0  1  2  3  4  5  6  7  8  9 10 11 12 13 14 15 16 17 18 19 20 21 22 23\n",
      " 24 25 26 27 28 29 30 31]\n"
     ]
    }
   ],
   "source": [
    "with HDF3DIterator('./test.h5', 'data') as hdf:\n",
    "    print(hdf[0])\n",
    "    print(hdf[0:10])\n",
    "    print(hdf[0,0])"
   ]
  },
  {
   "cell_type": "code",
   "execution_count": 6,
   "metadata": {},
   "outputs": [
    {
     "name": "stdout",
     "output_type": "stream",
     "text": [
      "[ 0  1  2  3  4  5  6  7  8  9 10 11 12 13 14 15 16 17 18 19 20 21 22 23\n",
      " 24 25 26 27 28 29 30 31]\n",
      "[32 33 34 35 36 37 38 39 40 41 42 43 44 45 46 47 48 49 50 51 52 53 54 55\n",
      " 56 57 58 59 60 61 62 63]\n",
      "[64 65 66 67 68 69 70 71 72 73 74 75 76 77 78 79 80 81 82 83 84 85 86 87\n",
      " 88 89 90 91 92 93 94 95]\n"
     ]
    }
   ],
   "source": [
    "with HDF3DIterator('./test.h5', 'data') as hdf:\n",
    "    print(hdf[0])\n",
    "    print(hdf[1])\n",
    "    print(hdf[2])"
   ]
  },
  {
   "cell_type": "code",
   "execution_count": 12,
   "metadata": {},
   "outputs": [
    {
     "name": "stdout",
     "output_type": "stream",
     "text": [
      "0 [ 0  1  2  3  4  5  6  7  8  9 10 11 12 13 14 15 16 17 18 19 20 21 22 23\n",
      " 24 25 26 27 28 29 30 31]\n",
      "1 [32 33 34 35 36 37 38 39 40 41 42 43 44 45 46 47 48 49 50 51 52 53 54 55\n",
      " 56 57 58 59 60 61 62 63]\n",
      "2 [64 65 66 67 68 69 70 71 72 73 74 75 76 77 78 79 80 81 82 83 84 85 86 87\n",
      " 88 89 90 91 92 93 94 95]\n",
      "3 [ 96  97  98  99 100 101 102 103 104 105 106 107 108 109 110 111 112 113\n",
      " 114 115 116 117 118 119 120 121 122 123 124 125 126 127]\n",
      "4 [128 129 130 131 132 133 134 135 136 137 138 139 140 141 142 143 144 145\n",
      " 146 147 148 149 150 151 152 153 154 155 156 157 158 159]\n",
      "5 [160 161 162 163 164 165 166 167 168 169 170 171 172 173 174 175 176 177\n",
      " 178 179 180 181 182 183 184 185 186 187 188 189 190 191]\n",
      "6 [192 193 194 195 196 197 198 199 200 201 202 203 204 205 206 207 208 209\n",
      " 210 211 212 213 214 215 216 217 218 219 220 221 222 223]\n",
      "7 [224 225 226 227 228 229 230 231 232 233 234 235 236 237 238 239 240 241\n",
      " 242 243 244 245 246 247 248 249 250 251 252 253 254 255]\n",
      "8 [256 257 258 259 260 261 262 263 264 265 266 267 268 269 270 271 272 273\n",
      " 274 275 276 277 278 279 280 281 282 283 284 285 286 287]\n",
      "9 [288 289 290 291 292 293 294 295 296 297 298 299 300 301 302 303 304 305\n",
      " 306 307 308 309 310 311 312 313 314 315 316 317 318 319]\n",
      "10 [320 321 322 323 324 325 326 327 328 329 330 331 332 333 334 335 336 337\n",
      " 338 339 340 341 342 343 344 345 346 347 348 349 350 351]\n",
      "11 [352 353 354 355 356 357 358 359 360 361 362 363 364 365 366 367 368 369\n",
      " 370 371 372 373 374 375 376 377 378 379 380 381 382 383]\n"
     ]
    }
   ],
   "source": [
    "with HDF3DIterator('./test.h5', 'data') as hdf:\n",
    "    for i, data in enumerate(hdf):\n",
    "        print(i, data)\n",
    "        if i > 10:\n",
    "            break"
   ]
  },
  {
   "cell_type": "code",
   "execution_count": 16,
   "metadata": {},
   "outputs": [
    {
     "name": "stdout",
     "output_type": "stream",
     "text": [
      "jo\n"
     ]
    }
   ],
   "source": [
    "print('jo')"
   ]
  },
  {
   "cell_type": "code",
   "execution_count": 17,
   "metadata": {},
   "outputs": [
    {
     "data": {
      "text/plain": [
       "tensor([[  0,   1,   2,   3,   4,   5,   6,   7,   8,   9,  10,  11,  12,  13,\n",
       "          14,  15,  16,  17,  18,  19,  20,  21,  22,  23,  24,  25,  26,  27,\n",
       "          28,  29,  30,  31],\n",
       "        [ 32,  33,  34,  35,  36,  37,  38,  39,  40,  41,  42,  43,  44,  45,\n",
       "          46,  47,  48,  49,  50,  51,  52,  53,  54,  55,  56,  57,  58,  59,\n",
       "          60,  61,  62,  63],\n",
       "        [ 64,  65,  66,  67,  68,  69,  70,  71,  72,  73,  74,  75,  76,  77,\n",
       "          78,  79,  80,  81,  82,  83,  84,  85,  86,  87,  88,  89,  90,  91,\n",
       "          92,  93,  94,  95],\n",
       "        [ 96,  97,  98,  99, 100, 101, 102, 103, 104, 105, 106, 107, 108, 109,\n",
       "         110, 111, 112, 113, 114, 115, 116, 117, 118, 119, 120, 121, 122, 123,\n",
       "         124, 125, 126, 127],\n",
       "        [128, 129, 130, 131, 132, 133, 134, 135, 136, 137, 138, 139, 140, 141,\n",
       "         142, 143, 144, 145, 146, 147, 148, 149, 150, 151, 152, 153, 154, 155,\n",
       "         156, 157, 158, 159],\n",
       "        [160, 161, 162, 163, 164, 165, 166, 167, 168, 169, 170, 171, 172, 173,\n",
       "         174, 175, 176, 177, 178, 179, 180, 181, 182, 183, 184, 185, 186, 187,\n",
       "         188, 189, 190, 191],\n",
       "        [192, 193, 194, 195, 196, 197, 198, 199, 200, 201, 202, 203, 204, 205,\n",
       "         206, 207, 208, 209, 210, 211, 212, 213, 214, 215, 216, 217, 218, 219,\n",
       "         220, 221, 222, 223],\n",
       "        [224, 225, 226, 227, 228, 229, 230, 231, 232, 233, 234, 235, 236, 237,\n",
       "         238, 239, 240, 241, 242, 243, 244, 245, 246, 247, 248, 249, 250, 251,\n",
       "         252, 253, 254, 255],\n",
       "        [256, 257, 258, 259, 260, 261, 262, 263, 264, 265, 266, 267, 268, 269,\n",
       "         270, 271, 272, 273, 274, 275, 276, 277, 278, 279, 280, 281, 282, 283,\n",
       "         284, 285, 286, 287],\n",
       "        [288, 289, 290, 291, 292, 293, 294, 295, 296, 297, 298, 299, 300, 301,\n",
       "         302, 303, 304, 305, 306, 307, 308, 309, 310, 311, 312, 313, 314, 315,\n",
       "         316, 317, 318, 319]])"
      ]
     },
     "execution_count": 17,
     "metadata": {},
     "output_type": "execute_result"
    }
   ],
   "source": [
    "from torch.utils.data import DataLoader\n",
    "\n",
    "train_ds = HDF3DIterator('./test.h5', 'data')\n",
    "train_ds.open()\n",
    "\n",
    "train_dl = DataLoader(train_ds, batch_size=10, num_workers=0)\n",
    "\n",
    "next(iter(train_dl))\n",
    "\n",
    "\n"
   ]
  },
  {
   "cell_type": "markdown",
   "metadata": {},
   "source": []
  }
 ],
 "metadata": {
  "kernelspec": {
   "display_name": "architecture_search_env",
   "language": "python",
   "name": "python3"
  },
  "language_info": {
   "codemirror_mode": {
    "name": "ipython",
    "version": 3
   },
   "file_extension": ".py",
   "mimetype": "text/x-python",
   "name": "python",
   "nbconvert_exporter": "python",
   "pygments_lexer": "ipython3",
   "version": "3.11.11"
  }
 },
 "nbformat": 4,
 "nbformat_minor": 2
}
